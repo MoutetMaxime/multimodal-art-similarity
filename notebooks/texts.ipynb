{
 "cells": [
  {
   "cell_type": "code",
   "execution_count": 8,
   "id": "65329034",
   "metadata": {},
   "outputs": [],
   "source": [
    "import torch\n",
    "import pandas as pd\n",
    "\n",
    "import sys\n",
    "import os\n",
    "\n",
    "\n",
    "notebook_dir = os.path.dirname(os.path.abspath(\"__file__\"))\n",
    "parent_dir = os.path.abspath(os.path.join(notebook_dir, '..'))\n",
    "sys.path.append(parent_dir)\n",
    "\n",
    "from src.utils.text_tools import keep_necessary_columns_mnr"
   ]
  },
  {
   "cell_type": "code",
   "execution_count": 9,
   "id": "b791d6b6",
   "metadata": {},
   "outputs": [
    {
     "data": {
      "text/html": [
       "<div>\n",
       "<style scoped>\n",
       "    .dataframe tbody tr th:only-of-type {\n",
       "        vertical-align: middle;\n",
       "    }\n",
       "\n",
       "    .dataframe tbody tr th {\n",
       "        vertical-align: top;\n",
       "    }\n",
       "\n",
       "    .dataframe thead th {\n",
       "        text-align: right;\n",
       "    }\n",
       "</style>\n",
       "<table border=\"1\" class=\"dataframe\">\n",
       "  <thead>\n",
       "    <tr style=\"text-align: right;\">\n",
       "      <th></th>\n",
       "      <th>REF</th>\n",
       "      <th>AUTR</th>\n",
       "      <th>TITR</th>\n",
       "      <th>REPR</th>\n",
       "    </tr>\n",
       "  </thead>\n",
       "  <tbody>\n",
       "    <tr>\n",
       "      <th>0</th>\n",
       "      <td>MNR00329</td>\n",
       "      <td>RIBERA Jusepe de (d'après)</td>\n",
       "      <td>Saint Jérôme pénitent</td>\n",
       "      <td>figure (saint Jérôme, pénitence, crâne, nudité)</td>\n",
       "    </tr>\n",
       "    <tr>\n",
       "      <th>1</th>\n",
       "      <td>MNR00330</td>\n",
       "      <td>COLLANTES Francisco</td>\n",
       "      <td>Arrivée à Bethléem</td>\n",
       "      <td>scène biblique (Sainte Famille, arrivée, Bethl...</td>\n",
       "    </tr>\n",
       "    <tr>\n",
       "      <th>2</th>\n",
       "      <td>MNR00331</td>\n",
       "      <td>LUCAS Y VELAZQUEZ, Eugenio (autrefois LUCAS Y ...</td>\n",
       "      <td>Hommes et femmes espagnols à une tribune</td>\n",
       "      <td>scène (homme : assis, femme : assis, espagnol,...</td>\n",
       "    </tr>\n",
       "    <tr>\n",
       "      <th>3</th>\n",
       "      <td>MNR00332</td>\n",
       "      <td>THULDEN Théodore van ? Anonyme</td>\n",
       "      <td>Religieuse avec saint Augustin, sainte Agnès e...</td>\n",
       "      <td>figures (saint François d'Assise, saint August...</td>\n",
       "    </tr>\n",
       "    <tr>\n",
       "      <th>4</th>\n",
       "      <td>MNR00333</td>\n",
       "      <td>REYNOLDS Sir Joshua</td>\n",
       "      <td>Portrait de Sir William Chambers (1723-1796)</td>\n",
       "      <td>portrait (Chambers William, homme, en buste, d...</td>\n",
       "    </tr>\n",
       "  </tbody>\n",
       "</table>\n",
       "</div>"
      ],
      "text/plain": [
       "        REF                                               AUTR  \\\n",
       "0  MNR00329                         RIBERA Jusepe de (d'après)   \n",
       "1  MNR00330                                COLLANTES Francisco   \n",
       "2  MNR00331  LUCAS Y VELAZQUEZ, Eugenio (autrefois LUCAS Y ...   \n",
       "3  MNR00332                     THULDEN Théodore van ? Anonyme   \n",
       "4  MNR00333                                REYNOLDS Sir Joshua   \n",
       "\n",
       "                                                TITR  \\\n",
       "0                              Saint Jérôme pénitent   \n",
       "1                                 Arrivée à Bethléem   \n",
       "2           Hommes et femmes espagnols à une tribune   \n",
       "3  Religieuse avec saint Augustin, sainte Agnès e...   \n",
       "4       Portrait de Sir William Chambers (1723-1796)   \n",
       "\n",
       "                                                REPR  \n",
       "0   figure (saint Jérôme, pénitence, crâne, nudité)   \n",
       "1  scène biblique (Sainte Famille, arrivée, Bethl...  \n",
       "2  scène (homme : assis, femme : assis, espagnol,...  \n",
       "3  figures (saint François d'Assise, saint August...  \n",
       "4  portrait (Chambers William, homme, en buste, d...  "
      ]
     },
     "execution_count": 9,
     "metadata": {},
     "output_type": "execute_result"
    }
   ],
   "source": [
    "mnr = pd.read_excel(\"../data/mnr_20250303.ods\")\n",
    "mnr = keep_necessary_columns_mnr(mnr)\n",
    "\n",
    "mnr.head()"
   ]
  },
  {
   "cell_type": "code",
   "execution_count": 10,
   "id": "9bdf5e94",
   "metadata": {},
   "outputs": [],
   "source": [
    "from src.Embedding import TextEmbeddingFromPretrained\n",
    "\n",
    "# embedding = TextEmbeddingFromPretrained(model_name=\"sentence-transformers/paraphrase-xlm-r-multilingual-v1\")\n",
    "embedding = TextEmbeddingFromPretrained(model_name=\"sentence-transformers/paraphrase-multilingual-MiniLM-L12-v2\")"
   ]
  },
  {
   "cell_type": "code",
   "execution_count": 11,
   "id": "38639089",
   "metadata": {},
   "outputs": [
    {
     "name": "stdout",
     "output_type": "stream",
     "text": [
      "Processed 0 rows\n",
      "Processed 100 rows\n",
      "Processed 200 rows\n",
      "Processed 300 rows\n",
      "Processed 400 rows\n",
      "Processed 500 rows\n",
      "Processed 600 rows\n",
      "Processed 700 rows\n",
      "Processed 800 rows\n",
      "Processed 900 rows\n",
      "Processed 1000 rows\n",
      "Processed 1100 rows\n",
      "Processed 1200 rows\n",
      "Processed 1300 rows\n",
      "Processed 1400 rows\n",
      "Processed 1500 rows\n",
      "Processed 1600 rows\n",
      "Processed 1700 rows\n",
      "Processed 1800 rows\n",
      "Processed 1900 rows\n",
      "Processed 2000 rows\n",
      "Processed 2100 rows\n",
      "Processed 2200 rows\n",
      "Processed 2300 rows\n",
      "Processed 2400 rows\n",
      "torch.Size([1, 2456, 3, 384])\n"
     ]
    }
   ],
   "source": [
    "mnr2la = {\n",
    "    \"AUTR\": \"Hersteller/Künstler/Autor:in\",\n",
    "    \"TITR\": \"Titel\",\n",
    "    \"REPR\": \"Beschreibung\",\n",
    "}\n",
    "\n",
    "embs = []\n",
    "for i, row in mnr.iterrows():\n",
    "    emb = []\n",
    "\n",
    "    for mnr_col in mnr2la.keys():\n",
    "        if mnr_col in row and pd.notna(row[mnr_col]):\n",
    "            emb.append(embedding.get_mean_pooling_embedding((row[mnr_col])))\n",
    "        else:\n",
    "            emb.append(torch.zeros(embedding.emb_size))\n",
    "        \n",
    "    embs.append(torch.stack(emb, dim=1))\n",
    "    if i % 100 == 0:\n",
    "        print(f\"Processed {i} rows\")\n",
    "\n",
    "embs = torch.stack(embs, dim=1)\n",
    "print(embs.shape)\n",
    "\n",
    "save_dict = {\n",
    "    \"refs\": mnr[\"REF\"].tolist(),\n",
    "    \"embeddings\": embs.squeeze(0)\n",
    "}\n",
    "\n",
    "torch.save(save_dict, \"../data/embeddings/mnr_text_minilm_mean_pooling_embeddings.pt\")"
   ]
  },
  {
   "cell_type": "code",
   "execution_count": 12,
   "id": "f51e0d33",
   "metadata": {},
   "outputs": [
    {
     "name": "stdout",
     "output_type": "stream",
     "text": [
      "['MNR00329', 'MNR00330', 'MNR00331', 'MNR00332', 'MNR00333']\n",
      "torch.Size([2456, 3, 384])\n"
     ]
    }
   ],
   "source": [
    "# load\n",
    "\n",
    "\n",
    "save_dict = torch.load(\"../data/embeddings/mnr_text_minilm_mean_pooling_embeddings.pt\")\n",
    "print(save_dict[\"refs\"][:5])\n",
    "print(save_dict[\"embeddings\"].shape)"
   ]
  }
 ],
 "metadata": {
  "kernelspec": {
   "display_name": "venv-nlp-ensae",
   "language": "python",
   "name": "python3"
  },
  "language_info": {
   "codemirror_mode": {
    "name": "ipython",
    "version": 3
   },
   "file_extension": ".py",
   "mimetype": "text/x-python",
   "name": "python",
   "nbconvert_exporter": "python",
   "pygments_lexer": "ipython3",
   "version": "3.12.5"
  }
 },
 "nbformat": 4,
 "nbformat_minor": 5
}
