{
 "cells": [
  {
   "cell_type": "code",
   "execution_count": 1,
   "metadata": {},
   "outputs": [],
   "source": [
    "import pandas as pd"
   ]
  },
  {
   "cell_type": "code",
   "execution_count": 7,
   "metadata": {},
   "outputs": [
    {
     "name": "stdout",
     "output_type": "stream",
     "text": [
      "lostart_start=6500.csv: 500\n",
      "lostart_start=2000.csv: 500\n",
      "lostart_start=20000.csv: 500\n",
      "lostart_start=24500.csv: 500\n",
      "lostart_start=36500.csv: 500\n",
      "lostart_start=32000.csv: 500\n",
      "lostart_start=28500.csv: 500\n",
      "lostart_start=12500.csv: 500\n",
      "lostart_start=16000.csv: 500\n",
      "lostart_start=34500.csv: 500\n",
      "lostart_start=30000.csv: 500\n",
      "lostart_start=22000.csv: 500\n",
      "lostart_start=26500.csv: 500\n",
      "lostart_start=10500.csv: 500\n",
      "lostart_start=14000.csv: 500\n",
      "lostart_start=18000.csv: 500\n",
      "lostart_start=4500.csv: 500\n",
      "lostart_start=8500.csv: 500\n",
      "lostart_start=18500.csv: 500\n",
      "lostart_start=500.csv: 500\n",
      "lostart_start=14500.csv: 500\n",
      "lostart_start=10000.csv: 500\n",
      "lostart_start=38000.csv: 497\n",
      "lostart_start=26000.csv: 500\n",
      "lostart_start=22500.csv: 500\n",
      "lostart_start=30500.csv: 500\n",
      "lostart_start=34000.csv: 500\n",
      "lostart_start=8000.csv: 500\n",
      "lostart_start=4000.csv: 500\n",
      "lostart_start=2500.csv: 500\n",
      "lostart_start=6000.csv: 500\n",
      "lostart_start=16500.csv: 500\n",
      "lostart_start=12000.csv: 500\n",
      "lostart_start=32500.csv: 500\n",
      "lostart_start=36000.csv: 500\n",
      "lostart_start=28000.csv: 500\n",
      "lostart_start=24000.csv: 500\n",
      "lostart_start=20500.csv: 500\n",
      "lostart_start=0.csv: 500\n",
      "lostart_start=13500.csv: 500\n",
      "lostart_start=17000.csv: 500\n",
      "lostart_start=21000.csv: 500\n",
      "lostart_start=25500.csv: 500\n",
      "lostart_start=29500.csv: 500\n",
      "lostart_start=37500.csv: 500\n",
      "lostart_start=33000.csv: 500\n",
      "lostart_start=7500.csv: 500\n",
      "lostart_start=3000.csv: 500\n",
      "lostart_start=5500.csv: 500\n",
      "lostart_start=1000.csv: 500\n",
      "lostart_start=9500.csv: 500\n",
      "lostart_start=11500.csv: 500\n",
      "lostart_start=15000.csv: 500\n",
      "lostart_start=19000.csv: 500\n",
      "lostart_start=35500.csv: 500\n",
      "lostart_start=31000.csv: 500\n",
      "lostart_start=23000.csv: 500\n",
      "lostart_start=27500.csv: 500\n",
      "lostart_start=9000.csv: 500\n",
      "lostart_start=1500.csv: 500\n",
      "lostart_start=5000.csv: 500\n",
      "lostart_start=27000.csv: 500\n",
      "lostart_start=23500.csv: 500\n",
      "lostart_start=31500.csv: 500\n",
      "lostart_start=35000.csv: 500\n",
      "lostart_start=19500.csv: 500\n",
      "lostart_start=15500.csv: 500\n",
      "lostart_start=11000.csv: 500\n",
      "lostart_start=29000.csv: 500\n",
      "lostart_start=33500.csv: 500\n",
      "lostart_start=37000.csv: 500\n",
      "lostart_start=25000.csv: 500\n",
      "lostart_start=21500.csv: 500\n",
      "lostart_start=17500.csv: 500\n",
      "lostart_start=13000.csv: 500\n",
      "lostart_start=3500.csv: 500\n",
      "lostart_start=7000.csv: 500\n",
      "Total: 38497\n",
      "Unique IDs: 38497\n",
      "Found ID: False\n"
     ]
    }
   ],
   "source": [
    "import os\n",
    "\n",
    "total_len = 0\n",
    "ids = set()\n",
    "\n",
    "found = False\n",
    "for csv in os.listdir(\"../data/lostart\"):\n",
    "    df = pd.read_csv(f\"../data/lostart/{csv}\", sep=\";\")\n",
    "    total_len += len(df)\n",
    "    print(f\"{csv}: {len(df)}\")\n",
    "\n",
    "    assert df[\"Lost Art ID\"].dtype == \"int64\", f\"Lost Art ID is not int64 in {csv}\"\n",
    "    \n",
    "    df_ids = df[\"Lost Art ID\"].unique()\n",
    "\n",
    "    for id in df_ids:\n",
    "        if id == 310418:\n",
    "            found = True\n",
    "            print(f\"Found ID: {id}\")\n",
    "        if id in ids:\n",
    "            print(f\"Duplicate ID: {id}\")\n",
    "        else:\n",
    "            ids.add(id)\n",
    "\n",
    "print(f\"Total: {total_len}\")\n",
    "print(f\"Unique IDs: {len(ids)}\")\n",
    "print(f\"Found ID: {found}\")"
   ]
  },
  {
   "cell_type": "markdown",
   "metadata": {},
   "source": [
    "# Lost art Dataset"
   ]
  },
  {
   "cell_type": "markdown",
   "metadata": {},
   "source": [
    "Dataset of search notices for spoliated works."
   ]
  },
  {
   "cell_type": "code",
   "execution_count": 8,
   "metadata": {},
   "outputs": [],
   "source": [
    "df_lostart = pd.read_csv(\"../data/lostart/lostart_start=0.csv\", sep=\";\")"
   ]
  },
  {
   "cell_type": "code",
   "execution_count": 9,
   "metadata": {},
   "outputs": [
    {
     "name": "stdout",
     "output_type": "stream",
     "text": [
      "Index(['Meldungsart', 'Datensatzart', 'Lost Art ID',\n",
      "       'Hersteller/Künstler/Autor:in', 'Titel', 'Datierung', 'Objektart',\n",
      "       'Inventarnummer/Signatur', 'Beschreibung', 'Provenienz',\n",
      "       'Veröffentlicht seit', 'Kontakt', 'Link', 'Literatur / Quelle'],\n",
      "      dtype='object')\n"
     ]
    }
   ],
   "source": [
    "print(df_lostart.columns)\n",
    "\n",
    "# Meldungsart: Type de message                                  #### TO DELETE ####\n",
    "# Datensatzart: Type d'enregistrement                           #### TO DELETE ####\n",
    "# Lost Art ID: ID Lost Art                                      #### TO DELETE ####\n",
    "# Hersteller/Künstler/Autor:in: Producteur/artiste/auteur:in\n",
    "# Titel: Titre\n",
    "# Datierung: Datation\n",
    "# Objektart: Type d'objet\n",
    "# Inventarnummer/Signatur: Numéro d'inventaire/signature        #### TO DELETE ####\n",
    "# Beschreibung: Description\n",
    "# Provenienz: Provenance                                        #### TO DELETE ####\n",
    "# Veröffentlicht seit: Publié depuis                            #### TO DELETE ####\n",
    "# Kontakt: Contact                                              #### TO DELETE ####\n",
    "# Link: Lien                                                    #### TO DELETE ####\n",
    "# Literatur/Quelle: Littérature / source                        #### TO DELETE ####"
   ]
  },
  {
   "cell_type": "code",
   "execution_count": 10,
   "metadata": {},
   "outputs": [
    {
     "name": "stdout",
     "output_type": "stream",
     "text": [
      "Meldungsart                       0\n",
      "Datensatzart                      0\n",
      "Lost Art ID                       0\n",
      "Hersteller/Künstler/Autor:in      0\n",
      "Titel                             0\n",
      "Datierung                       104\n",
      "Objektart                         0\n",
      "Inventarnummer/Signatur         155\n",
      "Beschreibung                     63\n",
      "Provenienz                        4\n",
      "Veröffentlicht seit               0\n",
      "Kontakt                          30\n",
      "Link                              0\n",
      "Literatur / Quelle              321\n",
      "dtype: int64\n"
     ]
    }
   ],
   "source": [
    "# Missing values\n",
    "print(df_lostart.isnull().sum())"
   ]
  },
  {
   "cell_type": "code",
   "execution_count": 11,
   "metadata": {},
   "outputs": [
    {
     "name": "stdout",
     "output_type": "stream",
     "text": [
      "Meldungsart\n",
      "Fundmeldung    263\n",
      "Suchmeldung    237\n",
      "Name: count, dtype: int64\n"
     ]
    }
   ],
   "source": [
    "# Fundmeldung: Annonce de la découverte\n",
    "# Suchmeldung: Avis de recherche\n",
    "\n",
    "print(df_lostart[\"Meldungsart\"].value_counts())"
   ]
  },
  {
   "cell_type": "code",
   "execution_count": 15,
   "metadata": {},
   "outputs": [
    {
     "name": "stdout",
     "output_type": "stream",
     "text": [
      "Missing description: 63 / 500 (12.60%)\n",
      "Total missing description: 12019 / 38497 (31.22%)\n"
     ]
    },
    {
     "data": {
      "text/plain": [
       "<Axes: >"
      ]
     },
     "execution_count": 15,
     "metadata": {},
     "output_type": "execute_result"
    },
    {
     "data": {
      "image/png": "[encoded data removed]",
      "text/plain": [
       "<Figure size 640x480 with 1 Axes>"
      ]
     },
     "metadata": {},
     "output_type": "display_data"
    }
   ],
   "source": [
    "# Missing description\n",
    "print(\"Missing description:\", df_lostart[\"Beschreibung\"].isnull().sum(), \"/\", len(df_lostart), f\"({df_lostart['Beschreibung'].isnull().sum() / len(df_lostart) * 100:.2f}%)\")\n",
    "\n",
    "# Total missing description in all CSVs\n",
    "\n",
    "total_missing = 0\n",
    "for csv in os.listdir(\"../data/lostart\"):\n",
    "    df = pd.read_csv(f\"../data/lostart/{csv}\", sep=\";\")\n",
    "    total_missing += df[\"Beschreibung\"].isnull().sum()\n",
    "print(\"Total missing description:\", total_missing, \"/\", total_len, f\"({total_missing / total_len * 100:.2f}%)\")\n",
    "\n",
    "# Plot description sizes\n",
    "df_lostart[\"Beschreibung\"].str.len().hist()"
   ]
  },
  {
   "cell_type": "markdown",
   "metadata": {},
   "source": [
    "# Rose Valland DataBase (POP)"
   ]
  },
  {
   "cell_type": "markdown",
   "metadata": {},
   "source": [
    "MNR Rose Valland database, which contains spoliated works returned to France."
   ]
  },
  {
   "cell_type": "code",
   "execution_count": 11,
   "metadata": {},
   "outputs": [
    {
     "data": {
      "text/html": [
       "<div>\n",
       "<style scoped>\n",
       "    .dataframe tbody tr th:only-of-type {\n",
       "        vertical-align: middle;\n",
       "    }\n",
       "\n",
       "    .dataframe tbody tr th {\n",
       "        vertical-align: top;\n",
       "    }\n",
       "\n",
       "    .dataframe thead th {\n",
       "        text-align: right;\n",
       "    }\n",
       "</style>\n",
       "<table border=\"1\" class=\"dataframe\">\n",
       "  <thead>\n",
       "    <tr style=\"text-align: right;\">\n",
       "      <th></th>\n",
       "      <th>REF</th>\n",
       "      <th>POP_COMMENTAIRES</th>\n",
       "      <th>POP_FLAGS</th>\n",
       "      <th>POP_IMPORT</th>\n",
       "      <th>AATT</th>\n",
       "      <th>AFFE</th>\n",
       "      <th>ATIT</th>\n",
       "      <th>ATTR</th>\n",
       "      <th>AUTI</th>\n",
       "      <th>AUTR</th>\n",
       "      <th>...</th>\n",
       "      <th>REPR</th>\n",
       "      <th>RESUME</th>\n",
       "      <th>SALLES</th>\n",
       "      <th>SCLE</th>\n",
       "      <th>SREP</th>\n",
       "      <th>STYL</th>\n",
       "      <th>SUITE</th>\n",
       "      <th>TECH</th>\n",
       "      <th>TITR</th>\n",
       "      <th>VIDEO</th>\n",
       "    </tr>\n",
       "  </thead>\n",
       "  <tbody>\n",
       "    <tr>\n",
       "      <th>0</th>\n",
       "      <td>MNR00329</td>\n",
       "      <td>NaN</td>\n",
       "      <td>NaN</td>\n",
       "      <td>6319fd4a4e2f920b275837a5;6319fd4a4e2f920b27583...</td>\n",
       "      <td>NaN</td>\n",
       "      <td>Paris ; musée du Louvre ; département des Pein...</td>\n",
       "      <td>Saint Jérôme ; Saint Antoine</td>\n",
       "      <td>NaN</td>\n",
       "      <td>NaN</td>\n",
       "      <td>RIBERA Jusepe de (d'après)</td>\n",
       "      <td>...</td>\n",
       "      <td>figure (saint Jérôme, pénitence, crâne, nudité)</td>\n",
       "      <td>NaN</td>\n",
       "      <td>NaN</td>\n",
       "      <td>17e siècle</td>\n",
       "      <td>NaN</td>\n",
       "      <td>NaN</td>\n",
       "      <td>NaN</td>\n",
       "      <td>Toile;peinture à l'huile</td>\n",
       "      <td>Saint Jérôme pénitent</td>\n",
       "      <td>mnr/MNR00329/MNR329-copyright-RMN-Grand_Palais...</td>\n",
       "    </tr>\n",
       "    <tr>\n",
       "      <th>1</th>\n",
       "      <td>MNR00330</td>\n",
       "      <td>NaN</td>\n",
       "      <td>NaN</td>\n",
       "      <td>6319fd4a4e2f920b275837a5;6319fd4a4e2f920b27583...</td>\n",
       "      <td>NaN</td>\n",
       "      <td>Paris ; musée du Louvre ; département des Pein...</td>\n",
       "      <td>Bethléem</td>\n",
       "      <td>NaN</td>\n",
       "      <td>NaN</td>\n",
       "      <td>COLLANTES Francisco</td>\n",
       "      <td>...</td>\n",
       "      <td>scène biblique (Sainte Famille, arrivée, Bethl...</td>\n",
       "      <td>NaN</td>\n",
       "      <td>NaN</td>\n",
       "      <td>17e siècle</td>\n",
       "      <td>Bible : Nouveau Testament</td>\n",
       "      <td>NaN</td>\n",
       "      <td>NaN</td>\n",
       "      <td>Toile;peinture à l'huile</td>\n",
       "      <td>Arrivée à Bethléem</td>\n",
       "      <td>mnr/MNR00330/MNR330_CopyrightRMN-GP_Franck-Rau...</td>\n",
       "    </tr>\n",
       "    <tr>\n",
       "      <th>2</th>\n",
       "      <td>MNR00331</td>\n",
       "      <td>NaN</td>\n",
       "      <td>NaN</td>\n",
       "      <td>6319fd4a4e2f920b275837a5;6319fd4a4e2f920b27583...</td>\n",
       "      <td>NaN</td>\n",
       "      <td>Paris ; musée du Louvre ; département des Pein...</td>\n",
       "      <td>Les Beautés au balcon#Les Belles au balcon</td>\n",
       "      <td>NaN</td>\n",
       "      <td>NaN</td>\n",
       "      <td>LUCAS Y VELAZQUEZ, Eugenio (autrefois LUCAS Y ...</td>\n",
       "      <td>...</td>\n",
       "      <td>scène (homme : assis, femme : assis, espagnol,...</td>\n",
       "      <td>NaN</td>\n",
       "      <td>12/09/2019 : oui</td>\n",
       "      <td>19e siècle</td>\n",
       "      <td>NaN</td>\n",
       "      <td>NaN</td>\n",
       "      <td>NaN</td>\n",
       "      <td>Toile;peinture à l'huile</td>\n",
       "      <td>Hommes et femmes espagnols à une tribune</td>\n",
       "      <td>mnr/MNR00331/MNR331_copyright-MuseeduLouvre_1....</td>\n",
       "    </tr>\n",
       "    <tr>\n",
       "      <th>3</th>\n",
       "      <td>MNR00332</td>\n",
       "      <td>NaN</td>\n",
       "      <td>NaN</td>\n",
       "      <td>6319fd4a4e2f920b275837a5;6319fd4a4e2f920b27583...</td>\n",
       "      <td>NaN</td>\n",
       "      <td>Paris ; musée du Louvre ; département des Pein...</td>\n",
       "      <td>Évêque avec sainte Agnès#Composition religieus...</td>\n",
       "      <td>VALDES Léal ; SHUT Cornelis.</td>\n",
       "      <td>NaN</td>\n",
       "      <td>THULDEN Théodore van ? Anonyme</td>\n",
       "      <td>...</td>\n",
       "      <td>figures (saint François d'Assise, saint August...</td>\n",
       "      <td>NaN</td>\n",
       "      <td>25/09/2019 : non, mais sera exposé après rénov...</td>\n",
       "      <td>17e siècle</td>\n",
       "      <td>NaN</td>\n",
       "      <td>NaN</td>\n",
       "      <td>NaN</td>\n",
       "      <td>Toile;peinture à l'huile</td>\n",
       "      <td>Religieuse avec saint Augustin, sainte Agnès e...</td>\n",
       "      <td>mnr/MNR00332/MNR332-copyright-Musee_Goya_Castr...</td>\n",
       "    </tr>\n",
       "    <tr>\n",
       "      <th>4</th>\n",
       "      <td>MNR00333</td>\n",
       "      <td>NaN</td>\n",
       "      <td>NaN</td>\n",
       "      <td>6319fd4a4e2f920b275837a5;6319fd4a4e2f920b27583...</td>\n",
       "      <td>NaN</td>\n",
       "      <td>Paris ; musée du Louvre ; département des Pein...</td>\n",
       "      <td>Portrait d'homme puis Portrait d'un écrivain</td>\n",
       "      <td>RAEBURN, Sir Henry</td>\n",
       "      <td>NaN</td>\n",
       "      <td>REYNOLDS Sir Joshua</td>\n",
       "      <td>...</td>\n",
       "      <td>portrait (Chambers William, homme, en buste, d...</td>\n",
       "      <td>NaN</td>\n",
       "      <td>NaN</td>\n",
       "      <td>18e siècle</td>\n",
       "      <td>NaN</td>\n",
       "      <td>NaN</td>\n",
       "      <td>NaN</td>\n",
       "      <td>Bois;peinture à l'huile</td>\n",
       "      <td>Portrait de Sir William Chambers (1723-1796)</td>\n",
       "      <td>mnr/MNR00333/MNR333-copyright_Musees_de_la_vil...</td>\n",
       "    </tr>\n",
       "  </tbody>\n",
       "</table>\n",
       "<p>5 rows × 62 columns</p>\n",
       "</div>"
      ],
      "text/plain": [
       "        REF  POP_COMMENTAIRES  POP_FLAGS  \\\n",
       "0  MNR00329               NaN        NaN   \n",
       "1  MNR00330               NaN        NaN   \n",
       "2  MNR00331               NaN        NaN   \n",
       "3  MNR00332               NaN        NaN   \n",
       "4  MNR00333               NaN        NaN   \n",
       "\n",
       "                                          POP_IMPORT AATT  \\\n",
       "0  6319fd4a4e2f920b275837a5;6319fd4a4e2f920b27583...  NaN   \n",
       "1  6319fd4a4e2f920b275837a5;6319fd4a4e2f920b27583...  NaN   \n",
       "2  6319fd4a4e2f920b275837a5;6319fd4a4e2f920b27583...  NaN   \n",
       "3  6319fd4a4e2f920b275837a5;6319fd4a4e2f920b27583...  NaN   \n",
       "4  6319fd4a4e2f920b275837a5;6319fd4a4e2f920b27583...  NaN   \n",
       "\n",
       "                                                AFFE  \\\n",
       "0  Paris ; musée du Louvre ; département des Pein...   \n",
       "1  Paris ; musée du Louvre ; département des Pein...   \n",
       "2  Paris ; musée du Louvre ; département des Pein...   \n",
       "3  Paris ; musée du Louvre ; département des Pein...   \n",
       "4  Paris ; musée du Louvre ; département des Pein...   \n",
       "\n",
       "                                                ATIT  \\\n",
       "0                       Saint Jérôme ; Saint Antoine   \n",
       "1                                           Bethléem   \n",
       "2         Les Beautés au balcon#Les Belles au balcon   \n",
       "3  Évêque avec sainte Agnès#Composition religieus...   \n",
       "4       Portrait d'homme puis Portrait d'un écrivain   \n",
       "\n",
       "                           ATTR AUTI  \\\n",
       "0                           NaN  NaN   \n",
       "1                           NaN  NaN   \n",
       "2                           NaN  NaN   \n",
       "3  VALDES Léal ; SHUT Cornelis.  NaN   \n",
       "4            RAEBURN, Sir Henry  NaN   \n",
       "\n",
       "                                                AUTR  ...  \\\n",
       "0                         RIBERA Jusepe de (d'après)  ...   \n",
       "1                                COLLANTES Francisco  ...   \n",
       "2  LUCAS Y VELAZQUEZ, Eugenio (autrefois LUCAS Y ...  ...   \n",
       "3                     THULDEN Théodore van ? Anonyme  ...   \n",
       "4                                REYNOLDS Sir Joshua  ...   \n",
       "\n",
       "                                                REPR RESUME  \\\n",
       "0    figure (saint Jérôme, pénitence, crâne, nudité)    NaN   \n",
       "1  scène biblique (Sainte Famille, arrivée, Bethl...    NaN   \n",
       "2  scène (homme : assis, femme : assis, espagnol,...    NaN   \n",
       "3  figures (saint François d'Assise, saint August...    NaN   \n",
       "4  portrait (Chambers William, homme, en buste, d...    NaN   \n",
       "\n",
       "                                              SALLES        SCLE  \\\n",
       "0                                                NaN  17e siècle   \n",
       "1                                                NaN  17e siècle   \n",
       "2                                   12/09/2019 : oui  19e siècle   \n",
       "3  25/09/2019 : non, mais sera exposé après rénov...  17e siècle   \n",
       "4                                                NaN  18e siècle   \n",
       "\n",
       "                        SREP STYL SUITE                      TECH  \\\n",
       "0                        NaN  NaN   NaN  Toile;peinture à l'huile   \n",
       "1  Bible : Nouveau Testament  NaN   NaN  Toile;peinture à l'huile   \n",
       "2                        NaN  NaN   NaN  Toile;peinture à l'huile   \n",
       "3                        NaN  NaN   NaN  Toile;peinture à l'huile   \n",
       "4                        NaN  NaN   NaN   Bois;peinture à l'huile   \n",
       "\n",
       "                                                TITR  \\\n",
       "0                              Saint Jérôme pénitent   \n",
       "1                                 Arrivée à Bethléem   \n",
       "2           Hommes et femmes espagnols à une tribune   \n",
       "3  Religieuse avec saint Augustin, sainte Agnès e...   \n",
       "4       Portrait de Sir William Chambers (1723-1796)   \n",
       "\n",
       "                                               VIDEO  \n",
       "0  mnr/MNR00329/MNR329-copyright-RMN-Grand_Palais...  \n",
       "1  mnr/MNR00330/MNR330_CopyrightRMN-GP_Franck-Rau...  \n",
       "2  mnr/MNR00331/MNR331_copyright-MuseeduLouvre_1....  \n",
       "3  mnr/MNR00332/MNR332-copyright-Musee_Goya_Castr...  \n",
       "4  mnr/MNR00333/MNR333-copyright_Musees_de_la_vil...  \n",
       "\n",
       "[5 rows x 62 columns]"
      ]
     },
     "execution_count": 11,
     "metadata": {},
     "output_type": "execute_result"
    }
   ],
   "source": [
    "pop = pd.read_excel(\"../data/mnr_20250303_17h40m54s.ods\")\n",
    "pop.head()"
   ]
  },
  {
   "cell_type": "code",
   "execution_count": 73,
   "metadata": {},
   "outputs": [
    {
     "name": "stdout",
     "output_type": "stream",
     "text": [
      "Index(['REF', 'POP_COMMENTAIRES', 'POP_FLAGS', 'POP_IMPORT', 'AATT', 'AFFE',\n",
      "       'ATIT', 'ATTR', 'AUTI', 'AUTR', 'BASE', 'BIBL', 'CARTELS', 'CATE',\n",
      "       'COMM', 'CONTIENT_IMAGE', 'DENO', 'DESC', 'DIMS', 'DMAJ', 'DMIS',\n",
      "       'DOMN', 'DREP', 'ECOL', 'ETAT', 'EXPO', 'GENE', 'HIST', 'HIST2',\n",
      "       'HIST3', 'HIST4', 'HISTORIQUE', 'INSC', 'INV', 'LOCA', 'MARQ', 'MILL',\n",
      "       'NET', 'NOTE', 'NOTE2', 'NUMS', 'OBSE', 'PAUT', 'PHOT', 'PREP',\n",
      "       'PRODUCTEUR', 'PROV', 'PTIT', 'RCL', 'REDC', 'REFIM', 'RENV', 'REPR',\n",
      "       'RESUME', 'SALLES', 'SCLE', 'SREP', 'STYL', 'SUITE', 'TECH', 'TITR',\n",
      "       'VIDEO'],\n",
      "      dtype='object')\n"
     ]
    }
   ],
   "source": [
    "print(pop.columns)"
   ]
  },
  {
   "cell_type": "code",
   "execution_count": 74,
   "metadata": {},
   "outputs": [
    {
     "name": "stdout",
     "output_type": "stream",
     "text": [
      "REF                    0\n",
      "POP_COMMENTAIRES    2456\n",
      "POP_FLAGS           2456\n",
      "POP_IMPORT             0\n",
      "AATT                2292\n",
      "AFFE                 425\n",
      "ATIT                1434\n",
      "ATTR                1953\n",
      "AUTI                2382\n",
      "AUTR                  60\n",
      "BASE                   0\n",
      "BIBL                1172\n",
      "CARTELS             2157\n",
      "CATE                 247\n",
      "COMM                  17\n",
      "CONTIENT_IMAGE         0\n",
      "DENO                2190\n",
      "DESC                1350\n",
      "DIMS                 123\n",
      "DMAJ                   0\n",
      "DMIS                2205\n",
      "DOMN                  16\n",
      "DREP                2436\n",
      "ECOL                 450\n",
      "ETAT                1870\n",
      "EXPO                1291\n",
      "GENE                2184\n",
      "HIST                 245\n",
      "HIST2               2452\n",
      "HIST3                  5\n",
      "HIST4               2265\n",
      "HISTORIQUE             0\n",
      "INSC                1672\n",
      "INV                  246\n",
      "LOCA                 202\n",
      "MARQ                 876\n",
      "MILL                1795\n",
      "NET                 2071\n",
      "NOTE                 307\n",
      "NOTE2                246\n",
      "NUMS                 928\n",
      "OBSE                2132\n",
      "PAUT                1493\n",
      "PHOT                 306\n",
      "PREP                2407\n",
      "PRODUCTEUR             0\n",
      "PROV                2455\n",
      "PTIT                2352\n",
      "RCL                 2071\n",
      "REDC                 598\n",
      "REFIM               2397\n",
      "RENV                1726\n",
      "REPR                1225\n",
      "RESUME              2058\n",
      "SALLES              2134\n",
      "SCLE                 277\n",
      "SREP                2357\n",
      "STYL                2286\n",
      "SUITE               2057\n",
      "TECH                 265\n",
      "TITR                   0\n",
      "VIDEO                 59\n",
      "dtype: int64\n"
     ]
    }
   ],
   "source": [
    "pd.set_option('display.max_rows', 100)\n",
    "\n",
    "print(pop.isnull().sum())"
   ]
  },
  {
   "cell_type": "code",
   "execution_count": 11,
   "metadata": {},
   "outputs": [
    {
     "name": "stdout",
     "output_type": "stream",
     "text": [
      "Missing description:  1350 / 2456 (54.97%)\n",
      "Missing image:  59 / 2456 (2.40%)\n"
     ]
    },
    {
     "data": {
      "text/plain": [
       "<Axes: >"
      ]
     },
     "execution_count": 11,
     "metadata": {},
     "output_type": "execute_result"
    },
    {
     "data": {
      "image/png": "[encoded data removed]",
      "text/plain": [
       "<Figure size 640x480 with 1 Axes>"
      ]
     },
     "metadata": {},
     "output_type": "display_data"
    }
   ],
   "source": [
    "# Missing description\n",
    "print(\"Missing description: \", pop[\"DESC\"].isnull().sum(), \"/\", len(pop), f\"({(pop[\"DESC\"].isnull().sum() / len(pop) * 100):.2f}%)\")\n",
    "\n",
    "# Missing image\n",
    "print(\"Missing image: \", len(pop[pop[\"CONTIENT_IMAGE\"] == \"non\"]), \"/\", len(pop), f\"({len(pop[pop['CONTIENT_IMAGE'] == 'non']) / len(pop) * 100:.2f}%)\")\n",
    "\n",
    "# Description sizes\n",
    "pop[\"DESC\"].str.len().hist()"
   ]
  },
  {
   "cell_type": "code",
   "execution_count": 12,
   "metadata": {},
   "outputs": [
    {
     "name": "stdout",
     "output_type": "stream",
     "text": [
      "CATE\n",
      "Oeuvre dont l'historique est incomplet entre 1933 et 1945, en l'état des recherches actuelles.    1741\n",
      "Oeuvre assurément spoliée.                                                                         158\n",
      "Oeuvre assurément non spoliée.                                                                     119\n",
      "Oeuvre probablement spoliée, en l'état des recherches actuelles.                                    70\n",
      "Oeuvre assurément spoliée, propriétaire inconnu en l’état des recherches actuelles.                 65\n",
      "Oeuvre probablement non spoliée, en l'état des recherches actuelles.                                51\n",
      "Oeuvre assurément non spoliée, en l'état des recherches actuelles.                                   2\n",
      "Oeuvre probablement non spoliée.                                                                     1\n",
      "Oeuvre dont l'historique est incomplet entre 1933 et 1945, en l'état des recherches actuelles        1\n",
      "Œuvre probablement non spoliée, en l’état des recherches actuelles.                                  1\n",
      "Name: count, dtype: int64\n"
     ]
    }
   ],
   "source": [
    "print(pop[\"CATE\"].value_counts())"
   ]
  }
 ],
 "metadata": {
  "kernelspec": {
   "display_name": "venv-nlp-ensae",
   "language": "python",
   "name": "python3"
  },
  "language_info": {
   "codemirror_mode": {
    "name": "ipython",
    "version": 3
   },
   "file_extension": ".py",
   "mimetype": "text/x-python",
   "name": "python",
   "nbconvert_exporter": "python",
   "pygments_lexer": "ipython3",
   "version": "3.12.5"
  }
 },
 "nbformat": 4,
 "nbformat_minor": 2
}
