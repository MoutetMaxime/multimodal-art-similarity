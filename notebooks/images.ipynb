{
 "cells": [
  {
   "cell_type": "code",
   "execution_count": 1,
   "metadata": {},
   "outputs": [],
   "source": [
    "import pandas as pd\n",
    "from PIL import Image\n",
    "\n",
    "import sys\n",
    "import os\n",
    "\n",
    "notebook_dir = os.path.dirname(os.path.abspath(\"__file__\"))\n",
    "parent_dir = os.path.abspath(os.path.join(notebook_dir, '..'))\n",
    "sys.path.append(parent_dir)"
   ]
  },
  {
   "cell_type": "code",
   "execution_count": null,
   "metadata": {},
   "outputs": [
    {
     "name": "stderr",
     "output_type": "stream",
     "text": [
      "Using a slow image processor as `use_fast` is unset and a slow processor was saved with this model. `use_fast=True` will be the default behavior in v4.48, even if the model was saved with a slow processor. This will result in minor differences in outputs. You'll still be able to use a slow processor with `use_fast=False`.\n"
     ]
    },
    {
     "name": "stdout",
     "output_type": "stream",
     "text": [
      "<src.Embedding.ImageEmbeddingFromPretrained object at 0x15fb67ef0>\n"
     ]
    }
   ],
   "source": [
    "from src.Embedding import ImageEmbeddingFromPretrained\n",
    "\n",
    "# Load the model\n",
    "model = ImageEmbeddingFromPretrained()"
   ]
  },
  {
   "cell_type": "code",
   "execution_count": 2,
   "metadata": {},
   "outputs": [
    {
     "name": "stdout",
     "output_type": "stream",
     "text": [
      "Image 526702.jpg already exists. Skipping download.\n"
     ]
    }
   ],
   "source": [
    "# Load image for Lost Art 589707\n",
    "\n",
    "from src.utils.download import download_images_from_page\n",
    "from src.utils.processing_df import find_lostart_csv\n",
    "\n",
    "\n",
    "id = 526702\n",
    "_, df = find_lostart_csv(id)\n",
    "\n",
    "download_images_from_page(df[\"Link\"].item(), id, download_dir=\"../data/images\")"
   ]
  },
  {
   "cell_type": "code",
   "execution_count": 3,
   "metadata": {},
   "outputs": [],
   "source": [
    "mnr = pd.read_excel(\"../data/mnr_20250303.ods\")"
   ]
  },
  {
   "cell_type": "code",
   "execution_count": 7,
   "metadata": {},
   "outputs": [
    {
     "name": "stdout",
     "output_type": "stream",
     "text": [
      "No single image found for the page: https://pop.culture.gouv.fr/notice/mnr/MNR00330\n",
      "Image MNR00330.jpg already exists. Skipping download.\n"
     ]
    }
   ],
   "source": [
    "code = \"MNR00330\"\n",
    "link = f\"https://pop.culture.gouv.fr/notice/mnr/{code}\"\n",
    "\n",
    "download_images_from_page(link, code, download_dir=f\"../data/images\", only_first=True)"
   ]
  }
 ],
 "metadata": {
  "kernelspec": {
   "display_name": "venv-nlp-ensae",
   "language": "python",
   "name": "python3"
  },
  "language_info": {
   "codemirror_mode": {
    "name": "ipython",
    "version": 3
   },
   "file_extension": ".py",
   "mimetype": "text/x-python",
   "name": "python",
   "nbconvert_exporter": "python",
   "pygments_lexer": "ipython3",
   "version": "3.12.5"
  }
 },
 "nbformat": 4,
 "nbformat_minor": 2
}
